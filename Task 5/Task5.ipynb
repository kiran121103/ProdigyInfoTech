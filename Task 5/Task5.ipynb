{
 "cells": [
  {
   "cell_type": "markdown",
   "metadata": {},
   "source": [
    "# Prodigy InfoTech DS Task 5."
   ]
  },
  {
   "cell_type": "markdown",
   "metadata": {},
   "source": [
    "Analyze traffic accident data to identify patterns related to road conditions, weather, and time of day. Visualize accident hotspots and contributing factors."
   ]
  },
  {
   "cell_type": "markdown",
   "metadata": {},
   "source": [
    "## Done By:- GONUGUNTA VENKATA balaji"
   ]
  },
  {
   "cell_type": "code",
   "execution_count": 1,
   "metadata": {},
   "outputs": [],
   "source": [
    "# This Python 3 environment comes with many helpful analytics libraries installed\n",
    "# It is defined by the kaggle/python Docker image: https://github.com/kaggle/docker-python\n",
    "# For example, here's several helpful packages to load\n",
    "#--------------------------------------------------\n",
    "import numpy as np # linear algebra\n",
    "import pandas as pd # data processing, CSV file I/O (e.g. pd.read_csv)\n",
    "import matplotlib.pyplot as plt\n",
    "import seaborn as sns\n",
    "#--------------------------------------------------\n",
    "# Input data files are available in the read-only \"../input/\" directory\n",
    "# For example, running this (by clicking run or pressing Shift+Enter) will list all files under the input directory\n",
    "\n",
    "import os\n",
    "# for dirname, _, filenames in os.walk('/kaggle/input'):\n",
    "#     for filename in filenames:\n",
    "#         print(os.path.join(dirname, filename))\n",
    "\n",
    "# You can write up to 20GB to the current directory (/kaggle/working/) that gets preserved as output when you create a version using \"Save & Run All\" \n",
    "# You can also write temporary files to /kaggle/temp/, but they won't be saved outside of the current session"
   ]
  },
  {
   "cell_type": "markdown",
   "metadata": {},
   "source": [
    "# USA-Accidents-EDA"
   ]
  },
  {
   "cell_type": "markdown",
   "metadata": {},
   "source": [
    "**EXPLORATORY DATA ANALYSIS**"
   ]
  },
  {
   "cell_type": "markdown",
   "metadata": {},
   "source": [
    "# Preparation and Cleaning "
   ]
  },
  {
   "cell_type": "code",
   "execution_count": 2,
   "metadata": {},
   "outputs": [
    {
     "data": {
      "text/html": [
       "<div>\n",
       "<style scoped>\n",
       "    .dataframe tbody tr th:only-of-type {\n",
       "        vertical-align: middle;\n",
       "    }\n",
       "\n",
       "    .dataframe tbody tr th {\n",
       "        vertical-align: top;\n",
       "    }\n",
       "\n",
       "    .dataframe thead th {\n",
       "        text-align: right;\n",
       "    }\n",
       "</style>\n",
       "<table border=\"1\" class=\"dataframe\">\n",
       "  <thead>\n",
       "    <tr style=\"text-align: right;\">\n",
       "      <th></th>\n",
       "      <th>Airport_Code</th>\n",
       "      <th>Amenity</th>\n",
       "      <th>Astronomical_Twilight</th>\n",
       "      <th>Bump</th>\n",
       "      <th>Calculation1</th>\n",
       "      <th>City</th>\n",
       "      <th>Civil_Twilight</th>\n",
       "      <th>count of Bump</th>\n",
       "      <th>Count of Crossing</th>\n",
       "      <th>count Traffic Signal</th>\n",
       "      <th>...</th>\n",
       "      <th>Humidity(%)</th>\n",
       "      <th>Number of Records</th>\n",
       "      <th>Precipitation(in)</th>\n",
       "      <th>Pressure(in)</th>\n",
       "      <th>Records</th>\n",
       "      <th>Start_Lat</th>\n",
       "      <th>Start_Lng</th>\n",
       "      <th>TMC</th>\n",
       "      <th>Wind_Chill(F)</th>\n",
       "      <th>Wind_Speed(mph)</th>\n",
       "    </tr>\n",
       "  </thead>\n",
       "  <tbody>\n",
       "    <tr>\n",
       "      <th>0</th>\n",
       "      <td>NaN</td>\n",
       "      <td>False</td>\n",
       "      <td>Day</td>\n",
       "      <td>False</td>\n",
       "      <td>Remaining</td>\n",
       "      <td>Garnet Valley</td>\n",
       "      <td>Day</td>\n",
       "      <td>0</td>\n",
       "      <td>0</td>\n",
       "      <td>0</td>\n",
       "      <td>...</td>\n",
       "      <td>NaN</td>\n",
       "      <td>1</td>\n",
       "      <td>NaN</td>\n",
       "      <td>NaN</td>\n",
       "      <td>1</td>\n",
       "      <td>39.852940</td>\n",
       "      <td>-75.461739</td>\n",
       "      <td>201.0</td>\n",
       "      <td>NaN</td>\n",
       "      <td>NaN</td>\n",
       "    </tr>\n",
       "    <tr>\n",
       "      <th>1</th>\n",
       "      <td>KDWH</td>\n",
       "      <td>False</td>\n",
       "      <td>Day</td>\n",
       "      <td>False</td>\n",
       "      <td>Remaining</td>\n",
       "      <td>Spring</td>\n",
       "      <td>Day</td>\n",
       "      <td>0</td>\n",
       "      <td>0</td>\n",
       "      <td>0</td>\n",
       "      <td>...</td>\n",
       "      <td>82.0</td>\n",
       "      <td>1</td>\n",
       "      <td>NaN</td>\n",
       "      <td>30.02</td>\n",
       "      <td>1</td>\n",
       "      <td>30.159246</td>\n",
       "      <td>-95.510826</td>\n",
       "      <td>201.0</td>\n",
       "      <td>NaN</td>\n",
       "      <td>5.8</td>\n",
       "    </tr>\n",
       "    <tr>\n",
       "      <th>2</th>\n",
       "      <td>KDSM</td>\n",
       "      <td>False</td>\n",
       "      <td>Day</td>\n",
       "      <td>False</td>\n",
       "      <td>Remaining</td>\n",
       "      <td>West des Moines</td>\n",
       "      <td>Day</td>\n",
       "      <td>0</td>\n",
       "      <td>0</td>\n",
       "      <td>0</td>\n",
       "      <td>...</td>\n",
       "      <td>79.0</td>\n",
       "      <td>1</td>\n",
       "      <td>NaN</td>\n",
       "      <td>30.04</td>\n",
       "      <td>1</td>\n",
       "      <td>41.586887</td>\n",
       "      <td>-93.806496</td>\n",
       "      <td>201.0</td>\n",
       "      <td>34.3</td>\n",
       "      <td>11.5</td>\n",
       "    </tr>\n",
       "    <tr>\n",
       "      <th>3</th>\n",
       "      <td>KCPS</td>\n",
       "      <td>False</td>\n",
       "      <td>Day</td>\n",
       "      <td>False</td>\n",
       "      <td>Remaining</td>\n",
       "      <td>Saint Louis</td>\n",
       "      <td>Day</td>\n",
       "      <td>0</td>\n",
       "      <td>0</td>\n",
       "      <td>0</td>\n",
       "      <td>...</td>\n",
       "      <td>84.0</td>\n",
       "      <td>1</td>\n",
       "      <td>NaN</td>\n",
       "      <td>30.10</td>\n",
       "      <td>1</td>\n",
       "      <td>38.634579</td>\n",
       "      <td>-90.186806</td>\n",
       "      <td>201.0</td>\n",
       "      <td>NaN</td>\n",
       "      <td>12.7</td>\n",
       "    </tr>\n",
       "    <tr>\n",
       "      <th>4</th>\n",
       "      <td>KXBP</td>\n",
       "      <td>False</td>\n",
       "      <td>Day</td>\n",
       "      <td>False</td>\n",
       "      <td>Remaining</td>\n",
       "      <td>Springtown</td>\n",
       "      <td>Day</td>\n",
       "      <td>0</td>\n",
       "      <td>0</td>\n",
       "      <td>0</td>\n",
       "      <td>...</td>\n",
       "      <td>96.0</td>\n",
       "      <td>1</td>\n",
       "      <td>NaN</td>\n",
       "      <td>29.95</td>\n",
       "      <td>1</td>\n",
       "      <td>32.930958</td>\n",
       "      <td>-97.641068</td>\n",
       "      <td>201.0</td>\n",
       "      <td>NaN</td>\n",
       "      <td>5.8</td>\n",
       "    </tr>\n",
       "    <tr>\n",
       "      <th>...</th>\n",
       "      <td>...</td>\n",
       "      <td>...</td>\n",
       "      <td>...</td>\n",
       "      <td>...</td>\n",
       "      <td>...</td>\n",
       "      <td>...</td>\n",
       "      <td>...</td>\n",
       "      <td>...</td>\n",
       "      <td>...</td>\n",
       "      <td>...</td>\n",
       "      <td>...</td>\n",
       "      <td>...</td>\n",
       "      <td>...</td>\n",
       "      <td>...</td>\n",
       "      <td>...</td>\n",
       "      <td>...</td>\n",
       "      <td>...</td>\n",
       "      <td>...</td>\n",
       "      <td>...</td>\n",
       "      <td>...</td>\n",
       "      <td>...</td>\n",
       "    </tr>\n",
       "    <tr>\n",
       "      <th>2243934</th>\n",
       "      <td>KBKF</td>\n",
       "      <td>False</td>\n",
       "      <td>Day</td>\n",
       "      <td>False</td>\n",
       "      <td>Remaining</td>\n",
       "      <td>Aurora</td>\n",
       "      <td>Day</td>\n",
       "      <td>0</td>\n",
       "      <td>1</td>\n",
       "      <td>1</td>\n",
       "      <td>...</td>\n",
       "      <td>48.0</td>\n",
       "      <td>1</td>\n",
       "      <td>NaN</td>\n",
       "      <td>30.00</td>\n",
       "      <td>1</td>\n",
       "      <td>39.709507</td>\n",
       "      <td>-104.814987</td>\n",
       "      <td>201.0</td>\n",
       "      <td>NaN</td>\n",
       "      <td>5.8</td>\n",
       "    </tr>\n",
       "    <tr>\n",
       "      <th>2243935</th>\n",
       "      <td>KBKF</td>\n",
       "      <td>False</td>\n",
       "      <td>Day</td>\n",
       "      <td>False</td>\n",
       "      <td>Remaining</td>\n",
       "      <td>Denver</td>\n",
       "      <td>Day</td>\n",
       "      <td>0</td>\n",
       "      <td>1</td>\n",
       "      <td>1</td>\n",
       "      <td>...</td>\n",
       "      <td>55.0</td>\n",
       "      <td>1</td>\n",
       "      <td>NaN</td>\n",
       "      <td>30.01</td>\n",
       "      <td>1</td>\n",
       "      <td>39.707298</td>\n",
       "      <td>-104.922256</td>\n",
       "      <td>201.0</td>\n",
       "      <td>NaN</td>\n",
       "      <td>5.8</td>\n",
       "    </tr>\n",
       "    <tr>\n",
       "      <th>2243936</th>\n",
       "      <td>KCOS</td>\n",
       "      <td>False</td>\n",
       "      <td>Day</td>\n",
       "      <td>False</td>\n",
       "      <td>Remaining</td>\n",
       "      <td>Colorado Springs</td>\n",
       "      <td>Day</td>\n",
       "      <td>0</td>\n",
       "      <td>1</td>\n",
       "      <td>1</td>\n",
       "      <td>...</td>\n",
       "      <td>20.0</td>\n",
       "      <td>1</td>\n",
       "      <td>NaN</td>\n",
       "      <td>29.86</td>\n",
       "      <td>1</td>\n",
       "      <td>38.833813</td>\n",
       "      <td>-104.821724</td>\n",
       "      <td>201.0</td>\n",
       "      <td>NaN</td>\n",
       "      <td>6.9</td>\n",
       "    </tr>\n",
       "    <tr>\n",
       "      <th>2243937</th>\n",
       "      <td>KCOS</td>\n",
       "      <td>False</td>\n",
       "      <td>Day</td>\n",
       "      <td>False</td>\n",
       "      <td>Remaining</td>\n",
       "      <td>Colorado Springs</td>\n",
       "      <td>Day</td>\n",
       "      <td>0</td>\n",
       "      <td>1</td>\n",
       "      <td>1</td>\n",
       "      <td>...</td>\n",
       "      <td>37.0</td>\n",
       "      <td>1</td>\n",
       "      <td>NaN</td>\n",
       "      <td>30.25</td>\n",
       "      <td>1</td>\n",
       "      <td>38.795475</td>\n",
       "      <td>-104.803535</td>\n",
       "      <td>201.0</td>\n",
       "      <td>NaN</td>\n",
       "      <td>6.9</td>\n",
       "    </tr>\n",
       "    <tr>\n",
       "      <th>2243938</th>\n",
       "      <td>KBKF</td>\n",
       "      <td>False</td>\n",
       "      <td>Day</td>\n",
       "      <td>False</td>\n",
       "      <td>Remaining</td>\n",
       "      <td>Denver</td>\n",
       "      <td>Day</td>\n",
       "      <td>0</td>\n",
       "      <td>1</td>\n",
       "      <td>1</td>\n",
       "      <td>...</td>\n",
       "      <td>43.0</td>\n",
       "      <td>1</td>\n",
       "      <td>NaN</td>\n",
       "      <td>30.00</td>\n",
       "      <td>1</td>\n",
       "      <td>39.707298</td>\n",
       "      <td>-104.922256</td>\n",
       "      <td>201.0</td>\n",
       "      <td>37.9</td>\n",
       "      <td>6.9</td>\n",
       "    </tr>\n",
       "  </tbody>\n",
       "</table>\n",
       "<p>2243939 rows × 57 columns</p>\n",
       "</div>"
      ],
      "text/plain": [
       "        Airport_Code  Amenity Astronomical_Twilight   Bump Calculation1  \\\n",
       "0                NaN    False                   Day  False    Remaining   \n",
       "1               KDWH    False                   Day  False    Remaining   \n",
       "2               KDSM    False                   Day  False    Remaining   \n",
       "3               KCPS    False                   Day  False    Remaining   \n",
       "4               KXBP    False                   Day  False    Remaining   \n",
       "...              ...      ...                   ...    ...          ...   \n",
       "2243934         KBKF    False                   Day  False    Remaining   \n",
       "2243935         KBKF    False                   Day  False    Remaining   \n",
       "2243936         KCOS    False                   Day  False    Remaining   \n",
       "2243937         KCOS    False                   Day  False    Remaining   \n",
       "2243938         KBKF    False                   Day  False    Remaining   \n",
       "\n",
       "                     City Civil_Twilight  count of Bump  Count of Crossing  \\\n",
       "0           Garnet Valley            Day              0                  0   \n",
       "1                  Spring            Day              0                  0   \n",
       "2         West des Moines            Day              0                  0   \n",
       "3             Saint Louis            Day              0                  0   \n",
       "4              Springtown            Day              0                  0   \n",
       "...                   ...            ...            ...                ...   \n",
       "2243934            Aurora            Day              0                  1   \n",
       "2243935            Denver            Day              0                  1   \n",
       "2243936  Colorado Springs            Day              0                  1   \n",
       "2243937  Colorado Springs            Day              0                  1   \n",
       "2243938            Denver            Day              0                  1   \n",
       "\n",
       "         count Traffic Signal  ... Humidity(%) Number of Records  \\\n",
       "0                           0  ...         NaN                 1   \n",
       "1                           0  ...        82.0                 1   \n",
       "2                           0  ...        79.0                 1   \n",
       "3                           0  ...        84.0                 1   \n",
       "4                           0  ...        96.0                 1   \n",
       "...                       ...  ...         ...               ...   \n",
       "2243934                     1  ...        48.0                 1   \n",
       "2243935                     1  ...        55.0                 1   \n",
       "2243936                     1  ...        20.0                 1   \n",
       "2243937                     1  ...        37.0                 1   \n",
       "2243938                     1  ...        43.0                 1   \n",
       "\n",
       "         Precipitation(in) Pressure(in)  Records  Start_Lat   Start_Lng  \\\n",
       "0                      NaN          NaN        1  39.852940  -75.461739   \n",
       "1                      NaN        30.02        1  30.159246  -95.510826   \n",
       "2                      NaN        30.04        1  41.586887  -93.806496   \n",
       "3                      NaN        30.10        1  38.634579  -90.186806   \n",
       "4                      NaN        29.95        1  32.930958  -97.641068   \n",
       "...                    ...          ...      ...        ...         ...   \n",
       "2243934                NaN        30.00        1  39.709507 -104.814987   \n",
       "2243935                NaN        30.01        1  39.707298 -104.922256   \n",
       "2243936                NaN        29.86        1  38.833813 -104.821724   \n",
       "2243937                NaN        30.25        1  38.795475 -104.803535   \n",
       "2243938                NaN        30.00        1  39.707298 -104.922256   \n",
       "\n",
       "           TMC Wind_Chill(F)  Wind_Speed(mph)  \n",
       "0        201.0           NaN              NaN  \n",
       "1        201.0           NaN              5.8  \n",
       "2        201.0          34.3             11.5  \n",
       "3        201.0           NaN             12.7  \n",
       "4        201.0           NaN              5.8  \n",
       "...        ...           ...              ...  \n",
       "2243934  201.0           NaN              5.8  \n",
       "2243935  201.0           NaN              5.8  \n",
       "2243936  201.0           NaN              6.9  \n",
       "2243937  201.0           NaN              6.9  \n",
       "2243938  201.0          37.9              6.9  \n",
       "\n",
       "[2243939 rows x 57 columns]"
      ]
     },
     "execution_count": 2,
     "metadata": {},
     "output_type": "execute_result"
    }
   ],
   "source": [
    "df = pd.read_csv(\"US_Accidents_May19_Migrated Data.csv\")\n",
    "df"
   ]
  },
  {
   "cell_type": "code",
   "execution_count": 3,
   "metadata": {},
   "outputs": [
    {
     "data": {
      "text/html": [
       "<div>\n",
       "<style scoped>\n",
       "    .dataframe tbody tr th:only-of-type {\n",
       "        vertical-align: middle;\n",
       "    }\n",
       "\n",
       "    .dataframe tbody tr th {\n",
       "        vertical-align: top;\n",
       "    }\n",
       "\n",
       "    .dataframe thead th {\n",
       "        text-align: right;\n",
       "    }\n",
       "</style>\n",
       "<table border=\"1\" class=\"dataframe\">\n",
       "  <thead>\n",
       "    <tr style=\"text-align: right;\">\n",
       "      <th></th>\n",
       "      <th>count of Bump</th>\n",
       "      <th>Count of Crossing</th>\n",
       "      <th>count Traffic Signal</th>\n",
       "      <th>End_Lat</th>\n",
       "      <th>End_Lng</th>\n",
       "      <th>Number</th>\n",
       "      <th>Severity</th>\n",
       "      <th>Temperature(F)</th>\n",
       "      <th>Visibility(mi)</th>\n",
       "      <th>Count of accidents</th>\n",
       "      <th>...</th>\n",
       "      <th>Humidity(%)</th>\n",
       "      <th>Number of Records</th>\n",
       "      <th>Precipitation(in)</th>\n",
       "      <th>Pressure(in)</th>\n",
       "      <th>Records</th>\n",
       "      <th>Start_Lat</th>\n",
       "      <th>Start_Lng</th>\n",
       "      <th>TMC</th>\n",
       "      <th>Wind_Chill(F)</th>\n",
       "      <th>Wind_Speed(mph)</th>\n",
       "    </tr>\n",
       "  </thead>\n",
       "  <tbody>\n",
       "    <tr>\n",
       "      <th>count</th>\n",
       "      <td>2.243939e+06</td>\n",
       "      <td>2.243939e+06</td>\n",
       "      <td>2.243939e+06</td>\n",
       "      <td>516762.000000</td>\n",
       "      <td>516762.000000</td>\n",
       "      <td>785537.000000</td>\n",
       "      <td>2.243939e+06</td>\n",
       "      <td>2.181674e+06</td>\n",
       "      <td>2.172579e+06</td>\n",
       "      <td>2.243939e+06</td>\n",
       "      <td>...</td>\n",
       "      <td>2.179472e+06</td>\n",
       "      <td>2243939.0</td>\n",
       "      <td>264473.000000</td>\n",
       "      <td>2.186659e+06</td>\n",
       "      <td>2.243939e+06</td>\n",
       "      <td>2.243939e+06</td>\n",
       "      <td>2.243939e+06</td>\n",
       "      <td>1.727177e+06</td>\n",
       "      <td>391569.000000</td>\n",
       "      <td>1.800985e+06</td>\n",
       "    </tr>\n",
       "    <tr>\n",
       "      <th>mean</th>\n",
       "      <td>1.065091e-04</td>\n",
       "      <td>5.427197e-02</td>\n",
       "      <td>1.598297e-01</td>\n",
       "      <td>37.443109</td>\n",
       "      <td>-96.527543</td>\n",
       "      <td>5625.281008</td>\n",
       "      <td>2.382692e+00</td>\n",
       "      <td>6.123244e+01</td>\n",
       "      <td>9.124096e+00</td>\n",
       "      <td>9.997121e-01</td>\n",
       "      <td>...</td>\n",
       "      <td>6.592758e+01</td>\n",
       "      <td>1.0</td>\n",
       "      <td>0.060439</td>\n",
       "      <td>3.003747e+01</td>\n",
       "      <td>9.997121e-01</td>\n",
       "      <td>3.646348e+01</td>\n",
       "      <td>-9.485567e+01</td>\n",
       "      <td>2.073527e+02</td>\n",
       "      <td>26.042067</td>\n",
       "      <td>8.844042e+00</td>\n",
       "    </tr>\n",
       "    <tr>\n",
       "      <th>std</th>\n",
       "      <td>1.031978e-02</td>\n",
       "      <td>2.265536e-01</td>\n",
       "      <td>3.664481e-01</td>\n",
       "      <td>5.126585</td>\n",
       "      <td>17.986406</td>\n",
       "      <td>11071.872897</td>\n",
       "      <td>5.488029e-01</td>\n",
       "      <td>1.914616e+01</td>\n",
       "      <td>2.986359e+00</td>\n",
       "      <td>1.696478e-02</td>\n",
       "      <td>...</td>\n",
       "      <td>2.243013e+01</td>\n",
       "      <td>0.0</td>\n",
       "      <td>0.439698</td>\n",
       "      <td>2.267242e-01</td>\n",
       "      <td>1.696478e-02</td>\n",
       "      <td>4.958759e+00</td>\n",
       "      <td>1.709453e+01</td>\n",
       "      <td>1.940527e+01</td>\n",
       "      <td>13.478333</td>\n",
       "      <td>4.973200e+00</td>\n",
       "    </tr>\n",
       "    <tr>\n",
       "      <th>min</th>\n",
       "      <td>0.000000e+00</td>\n",
       "      <td>0.000000e+00</td>\n",
       "      <td>0.000000e+00</td>\n",
       "      <td>24.570110</td>\n",
       "      <td>-124.497829</td>\n",
       "      <td>1.000000</td>\n",
       "      <td>0.000000e+00</td>\n",
       "      <td>-7.780000e+01</td>\n",
       "      <td>0.000000e+00</td>\n",
       "      <td>0.000000e+00</td>\n",
       "      <td>...</td>\n",
       "      <td>4.000000e+00</td>\n",
       "      <td>1.0</td>\n",
       "      <td>0.000000</td>\n",
       "      <td>0.000000e+00</td>\n",
       "      <td>0.000000e+00</td>\n",
       "      <td>2.457022e+01</td>\n",
       "      <td>-1.246238e+02</td>\n",
       "      <td>2.000000e+02</td>\n",
       "      <td>-65.900000</td>\n",
       "      <td>1.200000e+00</td>\n",
       "    </tr>\n",
       "    <tr>\n",
       "      <th>25%</th>\n",
       "      <td>0.000000e+00</td>\n",
       "      <td>0.000000e+00</td>\n",
       "      <td>0.000000e+00</td>\n",
       "      <td>33.887450</td>\n",
       "      <td>-117.870577</td>\n",
       "      <td>803.000000</td>\n",
       "      <td>2.000000e+00</td>\n",
       "      <td>4.890000e+01</td>\n",
       "      <td>1.000000e+01</td>\n",
       "      <td>1.000000e+00</td>\n",
       "      <td>...</td>\n",
       "      <td>5.000000e+01</td>\n",
       "      <td>1.0</td>\n",
       "      <td>0.000000</td>\n",
       "      <td>2.992000e+01</td>\n",
       "      <td>1.000000e+00</td>\n",
       "      <td>3.348468e+01</td>\n",
       "      <td>-1.171362e+02</td>\n",
       "      <td>2.010000e+02</td>\n",
       "      <td>19.200000</td>\n",
       "      <td>5.800000e+00</td>\n",
       "    </tr>\n",
       "    <tr>\n",
       "      <th>50%</th>\n",
       "      <td>0.000000e+00</td>\n",
       "      <td>0.000000e+00</td>\n",
       "      <td>0.000000e+00</td>\n",
       "      <td>38.038480</td>\n",
       "      <td>-90.192310</td>\n",
       "      <td>2672.000000</td>\n",
       "      <td>2.000000e+00</td>\n",
       "      <td>6.300000e+01</td>\n",
       "      <td>1.000000e+01</td>\n",
       "      <td>1.000000e+00</td>\n",
       "      <td>...</td>\n",
       "      <td>6.800000e+01</td>\n",
       "      <td>1.0</td>\n",
       "      <td>0.010000</td>\n",
       "      <td>3.003000e+01</td>\n",
       "      <td>1.000000e+00</td>\n",
       "      <td>3.586428e+01</td>\n",
       "      <td>-8.818469e+01</td>\n",
       "      <td>2.010000e+02</td>\n",
       "      <td>28.700000</td>\n",
       "      <td>8.100000e+00</td>\n",
       "    </tr>\n",
       "    <tr>\n",
       "      <th>75%</th>\n",
       "      <td>0.000000e+00</td>\n",
       "      <td>0.000000e+00</td>\n",
       "      <td>0.000000e+00</td>\n",
       "      <td>41.393320</td>\n",
       "      <td>-80.895040</td>\n",
       "      <td>6846.000000</td>\n",
       "      <td>3.000000e+00</td>\n",
       "      <td>7.590000e+01</td>\n",
       "      <td>1.000000e+01</td>\n",
       "      <td>1.000000e+00</td>\n",
       "      <td>...</td>\n",
       "      <td>8.500000e+01</td>\n",
       "      <td>1.0</td>\n",
       "      <td>0.040000</td>\n",
       "      <td>3.015000e+01</td>\n",
       "      <td>1.000000e+00</td>\n",
       "      <td>4.042111e+01</td>\n",
       "      <td>-8.085453e+01</td>\n",
       "      <td>2.010000e+02</td>\n",
       "      <td>36.400000</td>\n",
       "      <td>1.150000e+01</td>\n",
       "    </tr>\n",
       "    <tr>\n",
       "      <th>max</th>\n",
       "      <td>1.000000e+00</td>\n",
       "      <td>1.000000e+00</td>\n",
       "      <td>1.000000e+00</td>\n",
       "      <td>49.075000</td>\n",
       "      <td>-67.109242</td>\n",
       "      <td>961052.000000</td>\n",
       "      <td>4.000000e+00</td>\n",
       "      <td>1.706000e+02</td>\n",
       "      <td>1.400000e+02</td>\n",
       "      <td>1.000000e+00</td>\n",
       "      <td>...</td>\n",
       "      <td>1.000000e+02</td>\n",
       "      <td>1.0</td>\n",
       "      <td>10.800000</td>\n",
       "      <td>3.304000e+01</td>\n",
       "      <td>1.000000e+00</td>\n",
       "      <td>4.900076e+01</td>\n",
       "      <td>-6.711317e+01</td>\n",
       "      <td>4.060000e+02</td>\n",
       "      <td>45.200000</td>\n",
       "      <td>8.228000e+02</td>\n",
       "    </tr>\n",
       "  </tbody>\n",
       "</table>\n",
       "<p>8 rows × 22 columns</p>\n",
       "</div>"
      ],
      "text/plain": [
       "       count of Bump  Count of Crossing  count Traffic Signal        End_Lat  \\\n",
       "count   2.243939e+06       2.243939e+06          2.243939e+06  516762.000000   \n",
       "mean    1.065091e-04       5.427197e-02          1.598297e-01      37.443109   \n",
       "std     1.031978e-02       2.265536e-01          3.664481e-01       5.126585   \n",
       "min     0.000000e+00       0.000000e+00          0.000000e+00      24.570110   \n",
       "25%     0.000000e+00       0.000000e+00          0.000000e+00      33.887450   \n",
       "50%     0.000000e+00       0.000000e+00          0.000000e+00      38.038480   \n",
       "75%     0.000000e+00       0.000000e+00          0.000000e+00      41.393320   \n",
       "max     1.000000e+00       1.000000e+00          1.000000e+00      49.075000   \n",
       "\n",
       "             End_Lng         Number      Severity  Temperature(F)  \\\n",
       "count  516762.000000  785537.000000  2.243939e+06    2.181674e+06   \n",
       "mean      -96.527543    5625.281008  2.382692e+00    6.123244e+01   \n",
       "std        17.986406   11071.872897  5.488029e-01    1.914616e+01   \n",
       "min      -124.497829       1.000000  0.000000e+00   -7.780000e+01   \n",
       "25%      -117.870577     803.000000  2.000000e+00    4.890000e+01   \n",
       "50%       -90.192310    2672.000000  2.000000e+00    6.300000e+01   \n",
       "75%       -80.895040    6846.000000  3.000000e+00    7.590000e+01   \n",
       "max       -67.109242  961052.000000  4.000000e+00    1.706000e+02   \n",
       "\n",
       "       Visibility(mi)  Count of accidents  ...   Humidity(%)  \\\n",
       "count    2.172579e+06        2.243939e+06  ...  2.179472e+06   \n",
       "mean     9.124096e+00        9.997121e-01  ...  6.592758e+01   \n",
       "std      2.986359e+00        1.696478e-02  ...  2.243013e+01   \n",
       "min      0.000000e+00        0.000000e+00  ...  4.000000e+00   \n",
       "25%      1.000000e+01        1.000000e+00  ...  5.000000e+01   \n",
       "50%      1.000000e+01        1.000000e+00  ...  6.800000e+01   \n",
       "75%      1.000000e+01        1.000000e+00  ...  8.500000e+01   \n",
       "max      1.400000e+02        1.000000e+00  ...  1.000000e+02   \n",
       "\n",
       "       Number of Records  Precipitation(in)  Pressure(in)       Records  \\\n",
       "count          2243939.0      264473.000000  2.186659e+06  2.243939e+06   \n",
       "mean                 1.0           0.060439  3.003747e+01  9.997121e-01   \n",
       "std                  0.0           0.439698  2.267242e-01  1.696478e-02   \n",
       "min                  1.0           0.000000  0.000000e+00  0.000000e+00   \n",
       "25%                  1.0           0.000000  2.992000e+01  1.000000e+00   \n",
       "50%                  1.0           0.010000  3.003000e+01  1.000000e+00   \n",
       "75%                  1.0           0.040000  3.015000e+01  1.000000e+00   \n",
       "max                  1.0          10.800000  3.304000e+01  1.000000e+00   \n",
       "\n",
       "          Start_Lat     Start_Lng           TMC  Wind_Chill(F)  \\\n",
       "count  2.243939e+06  2.243939e+06  1.727177e+06  391569.000000   \n",
       "mean   3.646348e+01 -9.485567e+01  2.073527e+02      26.042067   \n",
       "std    4.958759e+00  1.709453e+01  1.940527e+01      13.478333   \n",
       "min    2.457022e+01 -1.246238e+02  2.000000e+02     -65.900000   \n",
       "25%    3.348468e+01 -1.171362e+02  2.010000e+02      19.200000   \n",
       "50%    3.586428e+01 -8.818469e+01  2.010000e+02      28.700000   \n",
       "75%    4.042111e+01 -8.085453e+01  2.010000e+02      36.400000   \n",
       "max    4.900076e+01 -6.711317e+01  4.060000e+02      45.200000   \n",
       "\n",
       "       Wind_Speed(mph)  \n",
       "count     1.800985e+06  \n",
       "mean      8.844042e+00  \n",
       "std       4.973200e+00  \n",
       "min       1.200000e+00  \n",
       "25%       5.800000e+00  \n",
       "50%       8.100000e+00  \n",
       "75%       1.150000e+01  \n",
       "max       8.228000e+02  \n",
       "\n",
       "[8 rows x 22 columns]"
      ]
     },
     "execution_count": 3,
     "metadata": {},
     "output_type": "execute_result"
    }
   ],
   "source": [
    "df.describe()"
   ]
  },
  {
   "cell_type": "code",
   "execution_count": 4,
   "metadata": {},
   "outputs": [
    {
     "data": {
      "text/html": [
       "<div>\n",
       "<style scoped>\n",
       "    .dataframe tbody tr th:only-of-type {\n",
       "        vertical-align: middle;\n",
       "    }\n",
       "\n",
       "    .dataframe tbody tr th {\n",
       "        vertical-align: top;\n",
       "    }\n",
       "\n",
       "    .dataframe thead th {\n",
       "        text-align: right;\n",
       "    }\n",
       "</style>\n",
       "<table border=\"1\" class=\"dataframe\">\n",
       "  <thead>\n",
       "    <tr style=\"text-align: right;\">\n",
       "      <th></th>\n",
       "      <th>Airport_Code</th>\n",
       "      <th>Amenity</th>\n",
       "      <th>Astronomical_Twilight</th>\n",
       "      <th>Bump</th>\n",
       "      <th>Calculation1</th>\n",
       "      <th>City</th>\n",
       "      <th>Civil_Twilight</th>\n",
       "      <th>Country</th>\n",
       "      <th>County</th>\n",
       "      <th>Crossing</th>\n",
       "      <th>...</th>\n",
       "      <th>Street</th>\n",
       "      <th>Sunrise_Sunset</th>\n",
       "      <th>Timezone</th>\n",
       "      <th>Traffic_Calming</th>\n",
       "      <th>Traffic_Signal</th>\n",
       "      <th>Turning_Loop</th>\n",
       "      <th>Weather_Condition</th>\n",
       "      <th>Weather_Timestamp</th>\n",
       "      <th>Wind_Direction</th>\n",
       "      <th>Zipcode</th>\n",
       "    </tr>\n",
       "  </thead>\n",
       "  <tbody>\n",
       "    <tr>\n",
       "      <th>count</th>\n",
       "      <td>2220275</td>\n",
       "      <td>2243939</td>\n",
       "      <td>2243861</td>\n",
       "      <td>2243939</td>\n",
       "      <td>2243939</td>\n",
       "      <td>2243871</td>\n",
       "      <td>2243861</td>\n",
       "      <td>2243939</td>\n",
       "      <td>2243939</td>\n",
       "      <td>2243939</td>\n",
       "      <td>...</td>\n",
       "      <td>2243939</td>\n",
       "      <td>2243861</td>\n",
       "      <td>2241798</td>\n",
       "      <td>2243939</td>\n",
       "      <td>2243939</td>\n",
       "      <td>2243939</td>\n",
       "      <td>2171935</td>\n",
       "      <td>2196769</td>\n",
       "      <td>2196749</td>\n",
       "      <td>2243293</td>\n",
       "    </tr>\n",
       "    <tr>\n",
       "      <th>unique</th>\n",
       "      <td>1895</td>\n",
       "      <td>2</td>\n",
       "      <td>2</td>\n",
       "      <td>2</td>\n",
       "      <td>3</td>\n",
       "      <td>11077</td>\n",
       "      <td>2</td>\n",
       "      <td>1</td>\n",
       "      <td>1682</td>\n",
       "      <td>2</td>\n",
       "      <td>...</td>\n",
       "      <td>120397</td>\n",
       "      <td>2</td>\n",
       "      <td>4</td>\n",
       "      <td>2</td>\n",
       "      <td>2</td>\n",
       "      <td>1</td>\n",
       "      <td>61</td>\n",
       "      <td>363617</td>\n",
       "      <td>18</td>\n",
       "      <td>297430</td>\n",
       "    </tr>\n",
       "    <tr>\n",
       "      <th>top</th>\n",
       "      <td>KMCJ</td>\n",
       "      <td>False</td>\n",
       "      <td>Day</td>\n",
       "      <td>False</td>\n",
       "      <td>Remaining</td>\n",
       "      <td>Houston</td>\n",
       "      <td>Day</td>\n",
       "      <td>US</td>\n",
       "      <td>Los Angeles</td>\n",
       "      <td>False</td>\n",
       "      <td>...</td>\n",
       "      <td>I-5 N</td>\n",
       "      <td>Day</td>\n",
       "      <td>US/Eastern</td>\n",
       "      <td>False</td>\n",
       "      <td>False</td>\n",
       "      <td>False</td>\n",
       "      <td>Clear</td>\n",
       "      <td>10/16/2018 7:53:00 AM</td>\n",
       "      <td>Calm</td>\n",
       "      <td>91706</td>\n",
       "    </tr>\n",
       "    <tr>\n",
       "      <th>freq</th>\n",
       "      <td>46678</td>\n",
       "      <td>2217962</td>\n",
       "      <td>1959792</td>\n",
       "      <td>2243700</td>\n",
       "      <td>1573772</td>\n",
       "      <td>76449</td>\n",
       "      <td>1761390</td>\n",
       "      <td>2243939</td>\n",
       "      <td>171981</td>\n",
       "      <td>2122156</td>\n",
       "      <td>...</td>\n",
       "      <td>25836</td>\n",
       "      <td>1647331</td>\n",
       "      <td>996341</td>\n",
       "      <td>2243321</td>\n",
       "      <td>1885291</td>\n",
       "      <td>2243939</td>\n",
       "      <td>808182</td>\n",
       "      <td>207</td>\n",
       "      <td>368269</td>\n",
       "      <td>3521</td>\n",
       "    </tr>\n",
       "  </tbody>\n",
       "</table>\n",
       "<p>4 rows × 35 columns</p>\n",
       "</div>"
      ],
      "text/plain": [
       "       Airport_Code  Amenity Astronomical_Twilight     Bump Calculation1  \\\n",
       "count       2220275  2243939               2243861  2243939      2243939   \n",
       "unique         1895        2                     2        2            3   \n",
       "top            KMCJ    False                   Day    False    Remaining   \n",
       "freq          46678  2217962               1959792  2243700      1573772   \n",
       "\n",
       "           City Civil_Twilight  Country       County Crossing  ...   Street  \\\n",
       "count   2243871        2243861  2243939      2243939  2243939  ...  2243939   \n",
       "unique    11077              2        1         1682        2  ...   120397   \n",
       "top     Houston            Day       US  Los Angeles    False  ...    I-5 N   \n",
       "freq      76449        1761390  2243939       171981  2122156  ...    25836   \n",
       "\n",
       "       Sunrise_Sunset    Timezone Traffic_Calming Traffic_Signal Turning_Loop  \\\n",
       "count         2243861     2241798         2243939        2243939      2243939   \n",
       "unique              2           4               2              2            1   \n",
       "top               Day  US/Eastern           False          False        False   \n",
       "freq          1647331      996341         2243321        1885291      2243939   \n",
       "\n",
       "       Weather_Condition      Weather_Timestamp Wind_Direction  Zipcode  \n",
       "count            2171935                2196769        2196749  2243293  \n",
       "unique                61                 363617             18   297430  \n",
       "top                Clear  10/16/2018 7:53:00 AM           Calm    91706  \n",
       "freq              808182                    207         368269     3521  \n",
       "\n",
       "[4 rows x 35 columns]"
      ]
     },
     "execution_count": 4,
     "metadata": {},
     "output_type": "execute_result"
    }
   ],
   "source": [
    "excluded_describe = df.describe(exclude ='number' )\n",
    "excluded_describe"
   ]
  },
  {
   "cell_type": "code",
   "execution_count": 5,
   "metadata": {},
   "outputs": [
    {
     "name": "stdout",
     "output_type": "stream",
     "text": [
      "Airport_Code\n",
      "Amenity\n",
      "Astronomical_Twilight\n",
      "Bump\n",
      "Calculation1\n",
      "City\n",
      "Civil_Twilight\n",
      "count of Bump\n",
      "Count of Crossing\n",
      "count Traffic Signal\n",
      "Country\n",
      "County\n",
      "Crossing\n",
      "Description\n",
      "End_Lat\n",
      "End_Lng\n",
      "End_Time\n",
      "Give_Way\n",
      "ID\n",
      "Junction\n",
      "Nautical_Twilight\n",
      "No_Exit\n",
      "Number\n",
      "Railway\n",
      "Roundabout\n",
      "Severity\n",
      "Side\n",
      "Source\n",
      "Start_Time\n",
      "State\n",
      "Station\n",
      "Stop\n",
      "Street\n",
      "Sunrise_Sunset\n",
      "Temperature(F)\n",
      "Timezone\n",
      "Traffic_Calming\n",
      "Traffic_Signal\n",
      "Turning_Loop\n",
      "Visibility(mi)\n",
      "Weather_Condition\n",
      "Weather_Timestamp\n",
      "Wind_Direction\n",
      "Zipcode\n",
      "Count of accidents\n",
      "count of county\n",
      "Distance(mi)\n",
      "Humidity(%)\n",
      "Number of Records\n",
      "Precipitation(in)\n",
      "Pressure(in)\n",
      "Records\n",
      "Start_Lat\n",
      "Start_Lng\n",
      "TMC\n",
      "Wind_Chill(F)\n",
      "Wind_Speed(mph)\n"
     ]
    }
   ],
   "source": [
    "df.columns\n",
    "for column in df.columns:\n",
    "    print(column)"
   ]
  },
  {
   "cell_type": "code",
   "execution_count": 6,
   "metadata": {},
   "outputs": [
    {
     "data": {
      "text/plain": [
       "22"
      ]
     },
     "execution_count": 6,
     "metadata": {},
     "output_type": "execute_result"
    }
   ],
   "source": [
    "numeric = ['int64','int32','int16','float16','float32','float64']\n",
    "df_numeric = df.select_dtypes(include=numeric)\n",
    "len(df_numeric.columns)"
   ]
  },
  {
   "cell_type": "code",
   "execution_count": 7,
   "metadata": {},
   "outputs": [
    {
     "name": "stdout",
     "output_type": "stream",
     "text": [
      "<class 'pandas.core.frame.DataFrame'>\n",
      "RangeIndex: 2243939 entries, 0 to 2243938\n",
      "Data columns (total 57 columns):\n",
      " #   Column                 Dtype  \n",
      "---  ------                 -----  \n",
      " 0   Airport_Code           object \n",
      " 1   Amenity                bool   \n",
      " 2   Astronomical_Twilight  object \n",
      " 3   Bump                   bool   \n",
      " 4   Calculation1           object \n",
      " 5   City                   object \n",
      " 6   Civil_Twilight         object \n",
      " 7   count of Bump          int64  \n",
      " 8   Count of Crossing      int64  \n",
      " 9   count Traffic Signal   int64  \n",
      " 10  Country                object \n",
      " 11  County                 object \n",
      " 12  Crossing               bool   \n",
      " 13  Description            object \n",
      " 14  End_Lat                float64\n",
      " 15  End_Lng                float64\n",
      " 16  End_Time               object \n",
      " 17  Give_Way               bool   \n",
      " 18  ID                     object \n",
      " 19  Junction               bool   \n",
      " 20  Nautical_Twilight      object \n",
      " 21  No_Exit                bool   \n",
      " 22  Number                 float64\n",
      " 23  Railway                bool   \n",
      " 24  Roundabout             bool   \n",
      " 25  Severity               int64  \n",
      " 26  Side                   object \n",
      " 27  Source                 object \n",
      " 28  Start_Time             object \n",
      " 29  State                  object \n",
      " 30  Station                bool   \n",
      " 31  Stop                   bool   \n",
      " 32  Street                 object \n",
      " 33  Sunrise_Sunset         object \n",
      " 34  Temperature(F)         float64\n",
      " 35  Timezone               object \n",
      " 36  Traffic_Calming        bool   \n",
      " 37  Traffic_Signal         bool   \n",
      " 38  Turning_Loop           bool   \n",
      " 39  Visibility(mi)         float64\n",
      " 40  Weather_Condition      object \n",
      " 41  Weather_Timestamp      object \n",
      " 42  Wind_Direction         object \n",
      " 43  Zipcode                object \n",
      " 44  Count of accidents     int64  \n",
      " 45  count of county        int64  \n",
      " 46  Distance(mi)           float64\n",
      " 47  Humidity(%)            float64\n",
      " 48  Number of Records      int64  \n",
      " 49  Precipitation(in)      float64\n",
      " 50  Pressure(in)           float64\n",
      " 51  Records                int64  \n",
      " 52  Start_Lat              float64\n",
      " 53  Start_Lng              float64\n",
      " 54  TMC                    float64\n",
      " 55  Wind_Chill(F)          float64\n",
      " 56  Wind_Speed(mph)        float64\n",
      "dtypes: bool(13), float64(14), int64(8), object(22)\n",
      "memory usage: 781.1+ MB\n"
     ]
    }
   ],
   "source": [
    "df.info()"
   ]
  },
  {
   "cell_type": "code",
   "execution_count": 8,
   "metadata": {},
   "outputs": [
    {
     "data": {
      "text/plain": [
       "Airport_Code               23664\n",
       "Amenity                        0\n",
       "Astronomical_Twilight         78\n",
       "Bump                           0\n",
       "Calculation1                   0\n",
       "City                          68\n",
       "Civil_Twilight                78\n",
       "count of Bump                  0\n",
       "Count of Crossing              0\n",
       "count Traffic Signal           0\n",
       "Country                        0\n",
       "County                         0\n",
       "Crossing                       0\n",
       "Description                    1\n",
       "End_Lat                  1727177\n",
       "End_Lng                  1727177\n",
       "End_Time                       0\n",
       "Give_Way                       0\n",
       "ID                             0\n",
       "Junction                       0\n",
       "Nautical_Twilight             78\n",
       "No_Exit                        0\n",
       "Number                   1458402\n",
       "Railway                        0\n",
       "Roundabout                     0\n",
       "Severity                       0\n",
       "Side                           1\n",
       "Source                         0\n",
       "Start_Time                     0\n",
       "State                          0\n",
       "Station                        0\n",
       "Stop                           0\n",
       "Street                         0\n",
       "Sunrise_Sunset                78\n",
       "Temperature(F)             62265\n",
       "Timezone                    2141\n",
       "Traffic_Calming                0\n",
       "Traffic_Signal                 0\n",
       "Turning_Loop                   0\n",
       "Visibility(mi)             71360\n",
       "Weather_Condition          72004\n",
       "Weather_Timestamp          47170\n",
       "Wind_Direction             47190\n",
       "Zipcode                      646\n",
       "Count of accidents             0\n",
       "count of county                0\n",
       "Distance(mi)                   0\n",
       "Humidity(%)                64467\n",
       "Number of Records              0\n",
       "Precipitation(in)        1979466\n",
       "Pressure(in)               57280\n",
       "Records                        0\n",
       "Start_Lat                      0\n",
       "Start_Lng                      0\n",
       "TMC                       516762\n",
       "Wind_Chill(F)            1852370\n",
       "Wind_Speed(mph)           442954\n",
       "dtype: int64"
      ]
     },
     "execution_count": 8,
     "metadata": {},
     "output_type": "execute_result"
    }
   ],
   "source": [
    "missing_values = df.isnull().sum()\n",
    "missing_values"
   ]
  },
  {
   "cell_type": "code",
   "execution_count": 9,
   "metadata": {},
   "outputs": [
    {
     "data": {
      "image/png": "[encoded data removed]",
      "text/plain": [
       "<Figure size 1000x600 with 1 Axes>"
      ]
     },
     "metadata": {},
     "output_type": "display_data"
    }
   ],
   "source": [
    "df_missing_values = missing_values[missing_values != 0].sort_values(ascending=True)\n",
    "\n",
    "df_missing_values\n",
    "# Plot the missing values\n",
    "plt.figure(figsize=(10, 6))\n",
    "df_missing_values.plot(kind='barh', color='skyblue')\n",
    "plt.title('Number of Missing Values per Column')\n",
    "plt.xlabel('Columns')\n",
    "plt.ylabel('Number of Missing Values')\n",
    "plt.xticks(rotation=45)\n",
    "plt.show()"
   ]
  },
  {
   "cell_type": "markdown",
   "metadata": {},
   "source": [
    "# Data Visulization"
   ]
  },
  {
   "cell_type": "code",
   "execution_count": 11,
   "metadata": {},
   "outputs": [
    {
     "data": {
      "text/plain": [
       "11078"
      ]
     },
     "execution_count": 11,
     "metadata": {},
     "output_type": "execute_result"
    }
   ],
   "source": [
    "cities = df.City.unique()\n",
    "len(cities)"
   ]
  },
  {
   "cell_type": "code",
   "execution_count": 12,
   "metadata": {},
   "outputs": [
    {
     "data": {
      "text/plain": [
       "City\n",
       "Houston          76449\n",
       "Charlotte        51791\n",
       "Los Angeles      49621\n",
       "Dallas           46492\n",
       "Austin           45683\n",
       "                 ...  \n",
       "Frenchburg           1\n",
       "Rainsville           1\n",
       "Tilleda              1\n",
       "Grand View           1\n",
       "Council Grove        1\n",
       "Name: count, Length: 11077, dtype: int64"
      ]
     },
     "execution_count": 12,
     "metadata": {},
     "output_type": "execute_result"
    }
   ],
   "source": [
    "city_by_accidents = df.City.value_counts()\n",
    "city_by_accidents"
   ]
  },
  {
   "cell_type": "code",
   "execution_count": 13,
   "metadata": {},
   "outputs": [
    {
     "data": {
      "text/plain": [
       "City\n",
       "Houston          76449\n",
       "Charlotte        51791\n",
       "Los Angeles      49621\n",
       "Dallas           46492\n",
       "Austin           45683\n",
       "Atlanta          31042\n",
       "Raleigh          30705\n",
       "Miami            24853\n",
       "Orlando          22087\n",
       "Baton Rouge      21689\n",
       "Oklahoma City    21666\n",
       "Nashville        20448\n",
       "Seattle          19957\n",
       "Sacramento       18214\n",
       "San Antonio      16963\n",
       "Minneapolis      15762\n",
       "San Diego        15610\n",
       "Omaha            15530\n",
       "Phoenix          15401\n",
       "Indianapolis     14846\n",
       "Name: count, dtype: int64"
      ]
     },
     "execution_count": 13,
     "metadata": {},
     "output_type": "execute_result"
    }
   ],
   "source": [
    "city_by_accidents[:20]"
   ]
  },
  {
   "cell_type": "code",
   "execution_count": 14,
   "metadata": {},
   "outputs": [
    {
     "data": {
      "text/plain": [
       "False"
      ]
     },
     "execution_count": 14,
     "metadata": {},
     "output_type": "execute_result"
    }
   ],
   "source": [
    "'detroit' in df.City\n",
    "'Detroit' in df.City"
   ]
  },
  {
   "cell_type": "markdown",
   "metadata": {},
   "source": [
    "**THERE IS NO DETROIT SO DETROIT HAS LOW ACCIDENTS**"
   ]
  },
  {
   "cell_type": "code",
   "execution_count": 15,
   "metadata": {},
   "outputs": [
    {
     "data": {
      "text/plain": [
       "<Axes: ylabel='City'>"
      ]
     },
     "execution_count": 15,
     "metadata": {},
     "output_type": "execute_result"
    },
    {
     "data": {
      "image/png": "[encoded data removed]",
      "text/plain": [
       "<Figure size 640x480 with 1 Axes>"
      ]
     },
     "metadata": {},
     "output_type": "display_data"
    }
   ],
   "source": [
    "city_by_accidents[:20].plot(kind='barh')"
   ]
  },
  {
   "cell_type": "code",
   "execution_count": 16,
   "metadata": {},
   "outputs": [
    {
     "name": "stderr",
     "output_type": "stream",
     "text": [
      "C:\\Users\\user\\AppData\\Local\\Temp\\ipykernel_8552\\475156009.py:1: UserWarning: \n",
      "\n",
      "`distplot` is a deprecated function and will be removed in seaborn v0.14.0.\n",
      "\n",
      "Please adapt your code to use either `displot` (a figure-level function with\n",
      "similar flexibility) or `histplot` (an axes-level function for histograms).\n",
      "\n",
      "For a guide to updating your code to use the new functions, please see\n",
      "https://gist.github.com/mwaskom/de44147ed2974457ad6372750bbe5751\n",
      "\n",
      "  sns.distplot(city_by_accidents)\n"
     ]
    },
    {
     "data": {
      "text/plain": [
       "<Axes: xlabel='count', ylabel='Density'>"
      ]
     },
     "execution_count": 16,
     "metadata": {},
     "output_type": "execute_result"
    },
    {
     "data": {
      "image/png": "[encoded data removed]",
      "text/plain": [
       "<Figure size 640x480 with 1 Axes>"
      ]
     },
     "metadata": {},
     "output_type": "display_data"
    }
   ],
   "source": [
    "sns.distplot(city_by_accidents)\n",
    "\n"
   ]
  },
  {
   "cell_type": "code",
   "execution_count": 17,
   "metadata": {},
   "outputs": [],
   "source": [
    "highest_accident = city_by_accidents[city_by_accidents>=1000]\n",
    "lowest_accident = city_by_accidents[city_by_accidents<1000]\n"
   ]
  },
  {
   "cell_type": "code",
   "execution_count": 18,
   "metadata": {},
   "outputs": [
    {
     "data": {
      "text/plain": [
       "0.03240657158331829"
      ]
     },
     "execution_count": 18,
     "metadata": {},
     "output_type": "execute_result"
    }
   ],
   "source": [
    "len(highest_accident)/len(cities)"
   ]
  },
  {
   "cell_type": "code",
   "execution_count": 19,
   "metadata": {},
   "outputs": [
    {
     "data": {
      "text/plain": [
       "<Axes: xlabel='count', ylabel='Count'>"
      ]
     },
     "execution_count": 19,
     "metadata": {},
     "output_type": "execute_result"
    },
    {
     "data": {
      "image/png": "[encoded data removed]",
      "text/plain": [
       "<Figure size 640x480 with 1 Axes>"
      ]
     },
     "metadata": {},
     "output_type": "display_data"
    }
   ],
   "source": [
    "sns.histplot(highest_accident,log_scale=True)"
   ]
  },
  {
   "cell_type": "markdown",
   "metadata": {},
   "source": [
    "**MOST CITIES HAVE ACCIDENTS CLOSE TO 1000**"
   ]
  },
  {
   "cell_type": "code",
   "execution_count": 20,
   "metadata": {},
   "outputs": [
    {
     "data": {
      "text/plain": [
       "<Axes: xlabel='count', ylabel='Count'>"
      ]
     },
     "execution_count": 20,
     "metadata": {},
     "output_type": "execute_result"
    },
    {
     "data": {
      "image/png": "[encoded data removed]",
      "text/plain": [
       "<Figure size 640x480 with 1 Axes>"
      ]
     },
     "metadata": {},
     "output_type": "display_data"
    }
   ],
   "source": [
    "sns.histplot(lowest_accident,log_scale=True)"
   ]
  },
  {
   "cell_type": "code",
   "execution_count": 21,
   "metadata": {},
   "outputs": [
    {
     "data": {
      "text/plain": [
       "City\n",
       "South China      1\n",
       "Adamsburg        1\n",
       "Emington         1\n",
       "West Halifax     1\n",
       "Sims             1\n",
       "                ..\n",
       "Frenchburg       1\n",
       "Rainsville       1\n",
       "Tilleda          1\n",
       "Grand View       1\n",
       "Council Grove    1\n",
       "Name: count, Length: 1467, dtype: int64"
      ]
     },
     "execution_count": 21,
     "metadata": {},
     "output_type": "execute_result"
    }
   ],
   "source": [
    "city_by_accidents[city_by_accidents == 1]"
   ]
  },
  {
   "cell_type": "markdown",
   "metadata": {},
   "source": [
    "**START TIME**"
   ]
  },
  {
   "cell_type": "code",
   "execution_count": 22,
   "metadata": {},
   "outputs": [
    {
     "name": "stderr",
     "output_type": "stream",
     "text": [
      "C:\\Users\\user\\AppData\\Local\\Temp\\ipykernel_8552\\2010393242.py:2: UserWarning: Could not infer format, so each element will be parsed individually, falling back to `dateutil`. To ensure parsing is consistent and as-expected, please specify a format.\n",
      "  df.Start_Time = pd.to_datetime(df.Start_Time)\n"
     ]
    }
   ],
   "source": [
    "#pd.to_datetime('Start_Time', format = \"%d/%m/%y\")\n",
    "df.Start_Time = pd.to_datetime(df.Start_Time)"
   ]
  },
  {
   "cell_type": "code",
   "execution_count": 23,
   "metadata": {},
   "outputs": [
    {
     "name": "stderr",
     "output_type": "stream",
     "text": [
      "C:\\Users\\user\\AppData\\Local\\Temp\\ipykernel_8552\\2146065868.py:1: UserWarning: \n",
      "\n",
      "`distplot` is a deprecated function and will be removed in seaborn v0.14.0.\n",
      "\n",
      "Please adapt your code to use either `displot` (a figure-level function with\n",
      "similar flexibility) or `histplot` (an axes-level function for histograms).\n",
      "\n",
      "For a guide to updating your code to use the new functions, please see\n",
      "https://gist.github.com/mwaskom/de44147ed2974457ad6372750bbe5751\n",
      "\n",
      "  sns.distplot(df.Start_Time.dt.hour,bins=20,kde=False)\n"
     ]
    },
    {
     "data": {
      "image/png": "[encoded data removed]",
      "text/plain": [
       "<Figure size 640x480 with 1 Axes>"
      ]
     },
     "metadata": {},
     "output_type": "display_data"
    }
   ],
   "source": [
    "sns.distplot(df.Start_Time.dt.hour,bins=20,kde=False)\n",
    "sns.set_style('whitegrid')\n",
    "plt.show()\n"
   ]
  },
  {
   "cell_type": "code",
   "execution_count": 24,
   "metadata": {},
   "outputs": [
    {
     "name": "stderr",
     "output_type": "stream",
     "text": [
      "C:\\Users\\user\\AppData\\Local\\Temp\\ipykernel_8552\\1391992391.py:1: UserWarning: \n",
      "\n",
      "`distplot` is a deprecated function and will be removed in seaborn v0.14.0.\n",
      "\n",
      "Please adapt your code to use either `displot` (a figure-level function with\n",
      "similar flexibility) or `histplot` (an axes-level function for histograms).\n",
      "\n",
      "For a guide to updating your code to use the new functions, please see\n",
      "https://gist.github.com/mwaskom/de44147ed2974457ad6372750bbe5751\n",
      "\n",
      "  sns.distplot(df.Start_Time.dt.weekday,bins=7,norm_hist=True,kde=False)\n"
     ]
    },
    {
     "data": {
      "image/png": "[encoded data removed]",
      "text/plain": [
       "<Figure size 640x480 with 1 Axes>"
      ]
     },
     "metadata": {},
     "output_type": "display_data"
    }
   ],
   "source": [
    "sns.distplot(df.Start_Time.dt.weekday,bins=7,norm_hist=True,kde=False)\n",
    "plt.grid\n",
    "plt.show()"
   ]
  },
  {
   "cell_type": "code",
   "execution_count": 25,
   "metadata": {},
   "outputs": [],
   "source": [
    "sunday_time =df.Start_Time[df.Start_Time.dt.day_of_week==6]"
   ]
  },
  {
   "cell_type": "code",
   "execution_count": 26,
   "metadata": {},
   "outputs": [
    {
     "name": "stderr",
     "output_type": "stream",
     "text": [
      "C:\\Users\\user\\AppData\\Local\\Temp\\ipykernel_8552\\4238717723.py:1: UserWarning: \n",
      "\n",
      "`distplot` is a deprecated function and will be removed in seaborn v0.14.0.\n",
      "\n",
      "Please adapt your code to use either `displot` (a figure-level function with\n",
      "similar flexibility) or `histplot` (an axes-level function for histograms).\n",
      "\n",
      "For a guide to updating your code to use the new functions, please see\n",
      "https://gist.github.com/mwaskom/de44147ed2974457ad6372750bbe5751\n",
      "\n",
      "  sns.distplot(sunday_time.dt.hour, bins=24, norm_hist=True, kde = False)\n"
     ]
    },
    {
     "data": {
      "image/png": "[encoded data removed]",
      "text/plain": [
       "<Figure size 640x480 with 1 Axes>"
      ]
     },
     "metadata": {},
     "output_type": "display_data"
    }
   ],
   "source": [
    "sns.distplot(sunday_time.dt.hour, bins=24, norm_hist=True, kde = False)\n",
    "plt.grid()\n",
    "plt.show()"
   ]
  },
  {
   "cell_type": "code",
   "execution_count": 27,
   "metadata": {},
   "outputs": [
    {
     "name": "stderr",
     "output_type": "stream",
     "text": [
      "C:\\Users\\user\\AppData\\Local\\Temp\\ipykernel_8552\\2954795542.py:1: UserWarning: \n",
      "\n",
      "`distplot` is a deprecated function and will be removed in seaborn v0.14.0.\n",
      "\n",
      "Please adapt your code to use either `displot` (a figure-level function with\n",
      "similar flexibility) or `histplot` (an axes-level function for histograms).\n",
      "\n",
      "For a guide to updating your code to use the new functions, please see\n",
      "https://gist.github.com/mwaskom/de44147ed2974457ad6372750bbe5751\n",
      "\n",
      "  sns.distplot(df.Start_Time.dt.month,bins=12,kde=False)\n"
     ]
    },
    {
     "data": {
      "image/png": "[encoded data removed]",
      "text/plain": [
       "<Figure size 640x480 with 1 Axes>"
      ]
     },
     "metadata": {},
     "output_type": "display_data"
    }
   ],
   "source": [
    "sns.distplot(df.Start_Time.dt.month,bins=12,kde=False)\n",
    "plt.show()"
   ]
  },
  {
   "cell_type": "markdown",
   "metadata": {},
   "source": [
    "**MOST DEATHS ARE IN AUTUMN AND WINTER**"
   ]
  },
  {
   "cell_type": "code",
   "execution_count": 28,
   "metadata": {},
   "outputs": [
    {
     "data": {
      "text/plain": [
       "0          2016\n",
       "1          2016\n",
       "2          2016\n",
       "3          2016\n",
       "4          2016\n",
       "           ... \n",
       "2243934    2017\n",
       "2243935    2017\n",
       "2243936    2018\n",
       "2243937    2017\n",
       "2243938    2017\n",
       "Name: Start_Time, Length: 2243939, dtype: int32"
      ]
     },
     "execution_count": 28,
     "metadata": {},
     "output_type": "execute_result"
    }
   ],
   "source": [
    "df.Start_Time.dt.year"
   ]
  },
  {
   "cell_type": "code",
   "execution_count": 29,
   "metadata": {},
   "outputs": [
    {
     "data": {
      "text/plain": [
       "0          MapQuest\n",
       "1          MapQuest\n",
       "2          MapQuest\n",
       "3          MapQuest\n",
       "4          MapQuest\n",
       "             ...   \n",
       "2243934    MapQuest\n",
       "2243935    MapQuest\n",
       "2243936    MapQuest\n",
       "2243937    MapQuest\n",
       "2243938    MapQuest\n",
       "Name: Source, Length: 2243939, dtype: object"
      ]
     },
     "execution_count": 29,
     "metadata": {},
     "output_type": "execute_result"
    }
   ],
   "source": [
    "df.Source"
   ]
  },
  {
   "cell_type": "code",
   "execution_count": 30,
   "metadata": {},
   "outputs": [
    {
     "data": {
      "text/plain": [
       "0           True\n",
       "1           True\n",
       "2           True\n",
       "3           True\n",
       "4           True\n",
       "           ...  \n",
       "2243934    False\n",
       "2243935    False\n",
       "2243936    False\n",
       "2243937    False\n",
       "2243938    False\n",
       "Name: Start_Time, Length: 2243939, dtype: bool"
      ]
     },
     "execution_count": 30,
     "metadata": {},
     "output_type": "execute_result"
    }
   ],
   "source": [
    "df_2016= df.Start_Time.dt.year == 2016\n",
    "df_2016"
   ]
  },
  {
   "cell_type": "code",
   "execution_count": 31,
   "metadata": {},
   "outputs": [],
   "source": [
    "if 'MapQuest' in df.Source:\n",
    "    print('Yes')"
   ]
  },
  {
   "cell_type": "markdown",
   "metadata": {},
   "source": [
    "# ANALYSIS ON ACCIDENTS BY YEARS"
   ]
  },
  {
   "cell_type": "code",
   "execution_count": 32,
   "metadata": {},
   "outputs": [
    {
     "name": "stderr",
     "output_type": "stream",
     "text": [
      "C:\\Users\\user\\AppData\\Local\\Temp\\ipykernel_8552\\3990459467.py:2: UserWarning: \n",
      "\n",
      "`distplot` is a deprecated function and will be removed in seaborn v0.14.0.\n",
      "\n",
      "Please adapt your code to use either `displot` (a figure-level function with\n",
      "similar flexibility) or `histplot` (an axes-level function for histograms).\n",
      "\n",
      "For a guide to updating your code to use the new functions, please see\n",
      "https://gist.github.com/mwaskom/de44147ed2974457ad6372750bbe5751\n",
      "\n",
      "  sns.distplot(df_2016.Start_Time.dt.month, bins=12, norm_hist=True, kde = False)\n"
     ]
    },
    {
     "data": {
      "text/plain": [
       "<Axes: xlabel='Start_Time'>"
      ]
     },
     "execution_count": 32,
     "metadata": {},
     "output_type": "execute_result"
    },
    {
     "data": {
      "image/png": "[encoded data removed]",
      "text/plain": [
       "<Figure size 640x480 with 1 Axes>"
      ]
     },
     "metadata": {},
     "output_type": "display_data"
    }
   ],
   "source": [
    "df_2016= df[df.Start_Time.dt.year == 2016]\n",
    "sns.distplot(df_2016.Start_Time.dt.month, bins=12, norm_hist=True, kde = False)"
   ]
  },
  {
   "cell_type": "code",
   "execution_count": 33,
   "metadata": {},
   "outputs": [
    {
     "name": "stderr",
     "output_type": "stream",
     "text": [
      "C:\\Users\\user\\AppData\\Local\\Temp\\ipykernel_8552\\1464067620.py:2: UserWarning: \n",
      "\n",
      "`distplot` is a deprecated function and will be removed in seaborn v0.14.0.\n",
      "\n",
      "Please adapt your code to use either `displot` (a figure-level function with\n",
      "similar flexibility) or `histplot` (an axes-level function for histograms).\n",
      "\n",
      "For a guide to updating your code to use the new functions, please see\n",
      "https://gist.github.com/mwaskom/de44147ed2974457ad6372750bbe5751\n",
      "\n",
      "  sns.distplot(df_2017.Start_Time.dt.month, bins=12, norm_hist=True, kde = False)\n"
     ]
    },
    {
     "data": {
      "text/plain": [
       "<Axes: xlabel='Start_Time'>"
      ]
     },
     "execution_count": 33,
     "metadata": {},
     "output_type": "execute_result"
    },
    {
     "data": {
      "image/png": "[encoded data removed]",
      "text/plain": [
       "<Figure size 640x480 with 1 Axes>"
      ]
     },
     "metadata": {},
     "output_type": "display_data"
    }
   ],
   "source": [
    "df_2017= df[df.Start_Time.dt.year == 2017]\n",
    "sns.distplot(df_2017.Start_Time.dt.month, bins=12, norm_hist=True, kde = False)"
   ]
  },
  {
   "cell_type": "code",
   "execution_count": 34,
   "metadata": {},
   "outputs": [
    {
     "name": "stderr",
     "output_type": "stream",
     "text": [
      "C:\\Users\\user\\AppData\\Local\\Temp\\ipykernel_8552\\1750430829.py:2: UserWarning: \n",
      "\n",
      "`distplot` is a deprecated function and will be removed in seaborn v0.14.0.\n",
      "\n",
      "Please adapt your code to use either `displot` (a figure-level function with\n",
      "similar flexibility) or `histplot` (an axes-level function for histograms).\n",
      "\n",
      "For a guide to updating your code to use the new functions, please see\n",
      "https://gist.github.com/mwaskom/de44147ed2974457ad6372750bbe5751\n",
      "\n",
      "  sns.distplot(df_2018.Start_Time.dt.month, bins=12, norm_hist=True, kde = False)\n"
     ]
    },
    {
     "data": {
      "text/plain": [
       "<Axes: xlabel='Start_Time'>"
      ]
     },
     "execution_count": 34,
     "metadata": {},
     "output_type": "execute_result"
    },
    {
     "data": {
      "image/png": "[encoded data removed]",
      "text/plain": [
       "<Figure size 640x480 with 1 Axes>"
      ]
     },
     "metadata": {},
     "output_type": "display_data"
    }
   ],
   "source": [
    "df_2018= df[df.Start_Time.dt.year == 2018]\n",
    "sns.distplot(df_2018.Start_Time.dt.month, bins=12, norm_hist=True, kde = False)"
   ]
  },
  {
   "cell_type": "code",
   "execution_count": 35,
   "metadata": {},
   "outputs": [
    {
     "name": "stderr",
     "output_type": "stream",
     "text": [
      "C:\\Users\\user\\AppData\\Local\\Temp\\ipykernel_8552\\3584003554.py:2: UserWarning: \n",
      "\n",
      "`distplot` is a deprecated function and will be removed in seaborn v0.14.0.\n",
      "\n",
      "Please adapt your code to use either `displot` (a figure-level function with\n",
      "similar flexibility) or `histplot` (an axes-level function for histograms).\n",
      "\n",
      "For a guide to updating your code to use the new functions, please see\n",
      "https://gist.github.com/mwaskom/de44147ed2974457ad6372750bbe5751\n",
      "\n",
      "  sns.distplot(df_2019.Start_Time.dt.month, bins=12, norm_hist=True, kde = False)\n"
     ]
    },
    {
     "data": {
      "text/plain": [
       "<Axes: xlabel='Start_Time'>"
      ]
     },
     "execution_count": 35,
     "metadata": {},
     "output_type": "execute_result"
    },
    {
     "data": {
      "image/png": "[encoded data removed]",
      "text/plain": [
       "<Figure size 640x480 with 1 Axes>"
      ]
     },
     "metadata": {},
     "output_type": "display_data"
    }
   ],
   "source": [
    "df_2019= df[df.Start_Time.dt.year == 2019]\n",
    "sns.distplot(df_2019.Start_Time.dt.month, bins=12, norm_hist=True, kde = False)"
   ]
  }
 ],
 "metadata": {
  "kernelspec": {
   "display_name": "Python 3 (ipykernel)",
   "language": "python",
   "name": "python3"
  },
  "language_info": {
   "codemirror_mode": {
    "name": "ipython",
    "version": 3
   },
   "file_extension": ".py",
   "mimetype": "text/x-python",
   "name": "python",
   "nbconvert_exporter": "python",
   "pygments_lexer": "ipython3",
   "version": "3.12.7"
  }
 },
 "nbformat": 4,
 "nbformat_minor": 4
}
